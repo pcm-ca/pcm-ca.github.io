{
 "cells": [
  {
   "cell_type": "markdown",
   "metadata": {
    "deletable": true,
    "editable": true
   },
   "source": [
    "# Exámen 2\n",
    "\n",
    "Este exámen se enfoca en dos temas, gráficos y ajustes, los puntos a desarrollar son los siguientes. En una carpeta con su nombre encontrará:\n",
    "\n",
    "1. 6 gráficos en orden de dificultad, su tarea es escribir el código requerido para generar dicho gráfico, incluyendo títulos en los ejes, leyenda y grilla, la función a la que obedecen los datos con los que se genera el gráfico se puede encontrar en la leyenda.\n",
    "\n",
    "2. 3 conjuntos de datos también en orden de dificultad (`data00.txt` el más fácil) debe cargar estos datos usando la función `x, y = np.loadtxt('data##.txt', unpack=True)` para despues ajustarlos usando una de las técnicas vistas en clase. Si abre el archivo `.txt` encontrará en el encabezado una pista sobre la función de la que provienen los datos. Para este punto debe:\n",
    "    - Proporcionar los parámetros de ajuste correctos para cada uno de los conjuntos de datos.\n",
    "    - Realizar un gráfico con los datos originales (puntos) y el ajuste de la función, tal como hemos hecho en repetidas ocaciones.\n",
    "\n",
    "Cada uno de los 2 puntos tendrá el mismo valor sobre la nota final.\n",
    "\n",
    "A continuación se presenta el código usado para generar los parciales (sin embargo, se oculta la semilla utilizada)."
   ]
  },
  {
   "cell_type": "code",
   "execution_count": 1,
   "metadata": {
    "collapsed": true,
    "deletable": true,
    "editable": true
   },
   "outputs": [],
   "source": [
    "%matplotlib inline\n",
    "from matplotlib.backends.backend_pdf import PdfPages\n",
    "import matplotlib.pyplot as plt\n",
    "import numpy as np\n",
    "import os\n",
    "import json"
   ]
  },
  {
   "cell_type": "code",
   "execution_count": 2,
   "metadata": {
    "collapsed": true,
    "deletable": true,
    "editable": true
   },
   "outputs": [],
   "source": [
    "np.random.seed(123)\n",
    "\n",
    "GUYS = [\n",
    "    'Juan Diego Carmona Benavides',\n",
    "    'Andrea Carolina Forero Pineda',\n",
    "    'Ivan Dario Gomez Cuatindioy',\n",
    "    'Jorge Alberto Latorre Arroyave',\n",
    "    'Alejandro Martinez Castaño',\n",
    "    'Andres Martinez Delgado',\n",
    "    'Daniel Felipe Martinez Vizcaino',\n",
    "    'Gustavo Andres Molina Ortiz',\n",
    "    'Juan Sebastian Pelaez Garzon',\n",
    "    'Walter Mauricio Ramirez Aristizabal',\n",
    "    'Sergio Ramirez Velasco',\n",
    "    'Stephania Riaño Casabianca',\n",
    "\n",
    "]"
   ]
  },
  {
   "cell_type": "code",
   "execution_count": 3,
   "metadata": {
    "collapsed": true,
    "deletable": true,
    "editable": true
   },
   "outputs": [],
   "source": [
    "PARTIAL_DIR = 'exam1_2017_1'\n",
    "SOLUTIONS_DIR = 'exam1_2017_1_solutions'"
   ]
  },
  {
   "cell_type": "code",
   "execution_count": 4,
   "metadata": {
    "collapsed": false,
    "deletable": true,
    "editable": true
   },
   "outputs": [],
   "source": [
    "def create_missing_dirs(*dirs):\n",
    "    for folder in dirs:\n",
    "        if not os.path.exists(folder):\n",
    "            os.makedirs(folder)\n",
    "create_missing_dirs(PARTIAL_DIR, SOLUTIONS_DIR)"
   ]
  },
  {
   "cell_type": "code",
   "execution_count": 5,
   "metadata": {
    "collapsed": true,
    "deletable": true,
    "editable": true
   },
   "outputs": [],
   "source": [
    "def random_params(number, min_val=1, max_val=5):\n",
    "    return tuple(\n",
    "        np.round(\n",
    "            np.random.uniform(min_val, max_val, size=number),\n",
    "            decimals=1\n",
    "        )\n",
    "    )"
   ]
  },
  {
   "cell_type": "code",
   "execution_count": 6,
   "metadata": {
    "collapsed": true,
    "deletable": true,
    "editable": true
   },
   "outputs": [],
   "source": [
    "def random_style():\n",
    "    style = np.random.choice(['-', '-.', '--'], p=[.50, .30, .20])\n",
    "    color = np.random.choice(['blue', 'green', 'red'])\n",
    "    return style, color"
   ]
  },
  {
   "cell_type": "code",
   "execution_count": 7,
   "metadata": {
    "collapsed": true,
    "deletable": true,
    "editable": true
   },
   "outputs": [],
   "source": [
    "def plot(x, y, label, plot_command=None):\n",
    "    if plot_command is None:\n",
    "        plot_command=plt.plot\n",
    "    style, color = random_style()\n",
    "    plot_command(x, y, style, label=label, color=color)\n",
    "    plt.xlabel(r'$x$')\n",
    "    plt.ylabel(r'$y$')\n",
    "    plt.grid()\n",
    "    plt.legend(loc='best')"
   ]
  },
  {
   "cell_type": "code",
   "execution_count": 8,
   "metadata": {
    "collapsed": true,
    "deletable": true,
    "editable": true
   },
   "outputs": [],
   "source": [
    "def cos_plot():\n",
    "    a, omega, phi = random_params(3)\n",
    "    x = np.linspace(-10, 10, 200)\n",
    "    y =  a * np.cos(omega * x + phi)\n",
    "    plot(x, y,\n",
    "         r'$y = {:.1f} \\, \\cos({:.1f} x + {:.1f})$'.format(a, omega, phi))\n",
    "\n",
    "def line_plot():\n",
    "    a, b = random_params(2)\n",
    "    x = np.linspace(-10, 10)\n",
    "    y = a * x + b\n",
    "    plot(x, y, label=r'$y = {:.1f} x + {:.1f}$'.format(a, b))\n",
    "\n",
    "def parable_plot():\n",
    "    a, b, c = random_params(3)\n",
    "    x = np.linspace(-10, 10)\n",
    "    y = a * x ** 2 + b * x + c\n",
    "    plot(x, y,\n",
    "         label=r'$y = {:.1f} x ^ 2 + {:.1f} x + {:.1f}$'.format(a, b, c))\n",
    "\n",
    "def sqrt_plot():\n",
    "    a, = random_params(1)\n",
    "    x = np.linspace(0, 10)\n",
    "    y = a * np.sqrt(x)\n",
    "    plot(x, y, label=r'$y = {:.1f} \\sqrt{{x}}$'.format(a))\n",
    "\n",
    "def exponential_plot():\n",
    "    a, n, = random_params(2, min_val=0.5, max_val=2)\n",
    "    x = np.linspace(0, 10)\n",
    "    y = a * x ** n\n",
    "    plot(x, y, label=r'$y = {:.1f} x ^ {{{:.1f}}}$'.format(a, n))\n",
    "    \n",
    "def exponential_loglog_plot():\n",
    "    a, n, = random_params(2)\n",
    "    x = np.linspace(0, 10)\n",
    "    y = a * x ** n\n",
    "    plot(x, y,\n",
    "         label=r'$y = {:.1f} x ^ {{{:.1f}}}$'.format(a, n),\n",
    "         plot_command=plt.loglog)\n",
    "\n",
    "EASY_PLOTS = [\n",
    "    cos_plot,\n",
    "    line_plot,\n",
    "    parable_plot,\n",
    "    sqrt_plot,\n",
    "    exponential_plot,\n",
    "    exponential_loglog_plot,\n",
    "]"
   ]
  },
  {
   "cell_type": "code",
   "execution_count": 9,
   "metadata": {
    "collapsed": false,
    "deletable": true,
    "editable": true
   },
   "outputs": [],
   "source": [
    "def hard_plot():\n",
    "    components = np.random.choice(EASY_PLOTS, 2, replace=False)\n",
    "    for i, p in enumerate(components):\n",
    "        plt.subplot(1, 2, i + 1)\n",
    "        p()\n",
    "        plt.tight_layout()\n",
    "\n",
    "HARD_PLOTS = [\n",
    "    hard_plot\n",
    "    for _ in range(10)\n",
    "]"
   ]
  },
  {
   "cell_type": "code",
   "execution_count": 10,
   "metadata": {
    "collapsed": true,
    "deletable": true,
    "editable": true
   },
   "outputs": [],
   "source": [
    "def harder_plot():\n",
    "    p1, p2, p3 = np.random.choice(EASY_PLOTS, 3, replace=False)\n",
    "    plt.subplot(2, 1, 1)\n",
    "    p1()\n",
    "    plt.subplot(2, 2, 3)\n",
    "    p2()\n",
    "    plt.subplot(2, 2, 4)\n",
    "    p3()\n",
    "    plt.tight_layout()\n",
    "\n",
    "HARDER_PLOTS = [\n",
    "    harder_plot\n",
    "    for _ in range(10)\n",
    "]"
   ]
  },
  {
   "cell_type": "code",
   "execution_count": 11,
   "metadata": {
    "collapsed": true,
    "deletable": true,
    "editable": true
   },
   "outputs": [],
   "source": [
    "def get_x():\n",
    "    return np.linspace(0, 20, 1000)"
   ]
  },
  {
   "cell_type": "code",
   "execution_count": 15,
   "metadata": {
    "collapsed": true,
    "deletable": true,
    "editable": true
   },
   "outputs": [],
   "source": [
    "def line_data():\n",
    "    a, b = random_params(2)\n",
    "    x = get_x()\n",
    "    y = a * x + b\n",
    "    return x, y, '$y = m x + b$', ('line', a, b)\n",
    "\n",
    "def parable_data():\n",
    "    a, b, c = random_params(3)\n",
    "    x = get_x()\n",
    "    y = a * x ** 2 + b * x + c\n",
    "    return x, y, r'$y = a x^2 + bx + c$', ('parable', a, b, c)\n",
    "\n",
    "def sqrt_data():\n",
    "    a, = random_params(1)\n",
    "    x = get_x()\n",
    "    y = a * np.sqrt(x)\n",
    "    return x, y, r'$y = c * \\sqrt{x}$', ('sqrt', a)\n",
    "\n",
    "def exponential_data():\n",
    "    a, n, = random_params(2, min_val=0.5, max_val=2)\n",
    "    x = get_x()\n",
    "    y = a * x ** n\n",
    "    return x, y, r'$y = A x ^ n$', ('exponential', a, n)\n",
    "\n",
    "def logarithmic_data():\n",
    "    a, b, = random_params(2, min_val=0.5, max_val=2)\n",
    "    x = get_x()\n",
    "    y = a * np.log(x + b)\n",
    "    return x, y, r'$y = a \\log(x + b)$', ('logarithm', a, b)\n",
    "\n",
    "SUPER_EASY_DATA = [\n",
    "    line_data,\n",
    "    parable_data,\n",
    "    sqrt_data,\n",
    "    exponential_data,\n",
    "    logarithmic_data,\n",
    "]"
   ]
  },
  {
   "cell_type": "code",
   "execution_count": 16,
   "metadata": {
    "collapsed": true,
    "deletable": true,
    "editable": true
   },
   "outputs": [],
   "source": [
    "def easy_data():\n",
    "    d1, d2 = np.random.choice(SUPER_EASY_DATA, 2, replace=False)\n",
    "    x1, y1, label1, params1 = d1()\n",
    "    x2, y2, label2, params2 = d2()\n",
    "    return (\n",
    "        x1,\n",
    "        y1 + y2,\n",
    "        '\\n'.join([label1, label2]),\n",
    "        (params1, params2)\n",
    "    )\n",
    "\n",
    "EASY_DATA = [\n",
    "    easy_data\n",
    "    for _ in range(20)\n",
    "]"
   ]
  },
  {
   "cell_type": "code",
   "execution_count": 17,
   "metadata": {
    "collapsed": false,
    "deletable": true,
    "editable": true
   },
   "outputs": [
    {
     "name": "stdout",
     "output_type": "stream",
     "text": [
      "done with Juan Diego Carmona Benavides\n",
      "done with Andrea Carolina Forero Pineda\n",
      "done with Ivan Dario Gomez Cuatindioy\n",
      "done with Jorge Alberto Latorre Arroyave\n",
      "done with Alejandro Martinez Castaño\n",
      "done with Andres Martinez Delgado\n",
      "done with Daniel Felipe Martinez Vizcaino\n",
      "done with Gustavo Andres Molina Ortiz\n",
      "done with Juan Sebastian Pelaez Garzon\n",
      "done with Walter Mauricio Ramirez Aristizabal\n",
      "done with Sergio Ramirez Velasco\n",
      "done with Stephania Riaño Casabianca\n"
     ]
    }
   ],
   "source": [
    "for guy in GUYS:\n",
    "    guy_dir = os.path.join(PARTIAL_DIR, guy)\n",
    "    create_missing_dirs(guy_dir)\n",
    "\n",
    "    all_plots = (\n",
    "        list(np.random.choice(EASY_PLOTS, size=2, replace=False)) +\n",
    "        list(np.random.choice(HARD_PLOTS, size=2, replace=False)) +\n",
    "        list(np.random.choice(HARDER_PLOTS, size=2, replace=False))\n",
    "    )\n",
    "\n",
    "    pp = PdfPages(os.path.join(guy_dir, 'gráficos.pdf'))\n",
    "    for p in all_plots:\n",
    "        plt.figure()\n",
    "        p()\n",
    "        plt.tight_layout()\n",
    "        pp.savefig()\n",
    "        plt.close()\n",
    "    pp.close()\n",
    "\n",
    "    solutions = []\n",
    "    all_data = (\n",
    "        [np.random.choice(SUPER_EASY_DATA)] +\n",
    "        [np.random.choice(SUPER_EASY_DATA)] +\n",
    "        [np.random.choice(EASY_DATA)]\n",
    "    )\n",
    "    for i, d in enumerate(all_data):\n",
    "        x, y, label, conditions = d()\n",
    "        np.savetxt(\n",
    "            os.path.join(guy_dir, 'data{:02}.txt'.format(i)),\n",
    "            np.array([x, y]).T,\n",
    "            header=label,\n",
    "        )\n",
    "        solutions.append(conditions)\n",
    "\n",
    "    guy_solutions = os.path.join(SOLUTIONS_DIR, '{}.json'.format(guy))\n",
    "    with open(guy_solutions, 'w') as sol:\n",
    "        json.dump(solutions, sol, indent=4)\n",
    "    \n",
    "    print('done with', guy)"
   ]
  },
  {
   "cell_type": "code",
   "execution_count": null,
   "metadata": {
    "collapsed": true,
    "deletable": true,
    "editable": true
   },
   "outputs": [],
   "source": []
  }
 ],
 "metadata": {
  "kernelspec": {
   "display_name": "Python 3",
   "language": "python",
   "name": "python3"
  },
  "language_info": {
   "codemirror_mode": {
    "name": "ipython",
    "version": 3
   },
   "file_extension": ".py",
   "mimetype": "text/x-python",
   "name": "python",
   "nbconvert_exporter": "python",
   "pygments_lexer": "ipython3",
   "version": "3.6.0"
  }
 },
 "nbformat": 4,
 "nbformat_minor": 0
}
