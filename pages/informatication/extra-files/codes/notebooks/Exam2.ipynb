{
 "cells": [
  {
   "cell_type": "markdown",
   "metadata": {
    "deletable": true,
    "editable": true
   },
   "source": [
    "# Exámen 2\n",
    "\n",
    "Este exámen se enfoca en dos temas, gráficos y ajustes, los puntos a desarrollar son los siguientes. En una carpeta con su nombre encontrará:\n",
    "\n",
    "1. 3 gráficos en orden de dificultad, su tarea es escribir el código requerido para generar dicho gráfico, incluyendo títulos en los ejes, leyenda y grilla, la función a la que obedecen los datos con los que se genera el gráfico se puede encontrar en la leyenda.\n",
    "\n",
    "2. 3 conjuntos de datos también en orden de dificultad (`data00.txt` el más fácil) debe cargar estos datos usando la función `x, y = np.loadtxt('data##.txt', unpack=True)` para despues ajustarlos usando una de las técnicas vistas en clase. Si abre el archivo `.txt` encontrará en el encabezado una pista sobre la función de la que provienen los datos. Para este punto debe:\n",
    "    - Proporcionar los parámetros de ajuste correctos para cada uno de los conjuntos de datos.\n",
    "    - Realizar un gráfico con los datos originales (puntos) y el ajuste de la función, tal como hemos hecho en repetidas ocaciones.\n",
    "\n",
    "3. 2 compuestos para los cuales deberá proveer un análisis TGA, incluyendo, identificación de componentes, cuantificación de los componentes en masa, porcentaje de error con respecto a la temperatura ideal y gráficos asociados.\n",
    "\n",
    "Cada uno de los 3 puntos tendrá el mismo valor sobre la nota final.\n",
    "\n",
    "A continuación se presenta el código usado para generar los parciales (sin embargo, se oculta la semilla utilizada)."
   ]
  },
  {
   "cell_type": "code",
   "execution_count": 1,
   "metadata": {
    "collapsed": true,
    "deletable": true,
    "editable": true
   },
   "outputs": [],
   "source": [
    "%matplotlib inline\n",
    "from matplotlib.backends.backend_pdf import PdfPages\n",
    "import matplotlib.pyplot as plt\n",
    "import numpy as np\n",
    "import os\n",
    "import json"
   ]
  },
  {
   "cell_type": "code",
   "execution_count": 2,
   "metadata": {
    "collapsed": true,
    "deletable": true,
    "editable": true
   },
   "outputs": [],
   "source": [
    "np.random.seed(12)\n",
    "\n",
    "GUYS = [\n",
    "    'Federico',\n",
    "    'Sebastian Alejandro',\n",
    "    'Fernando',\n",
    "    'Ivan Dario',\n",
    "    'Sebastian',\n",
    "    'Christian David',\n",
    "    'Sergio Alejandro',\n",
    "    'Juan Camilo',\n",
    "    'Angel Santiago',\n",
    "    'Anngie Carolina',\n",
    "    'Cristian Elias',\n",
    "    'Juan Sebastian',\n",
    "    'Daniela',\n",
    "    'Maria Victoria',\n",
    "    'Laura Victoria',\n",
    "    'Maria Camila',\n",
    "    'Oscar (Bolaños)',\n",
    "]"
   ]
  },
  {
   "cell_type": "code",
   "execution_count": 3,
   "metadata": {
    "collapsed": true,
    "deletable": true,
    "editable": true
   },
   "outputs": [],
   "source": [
    "PARTIAL_DIR = 'exam2'\n",
    "SOLUTIONS_DIR = 'exam2_solutions'"
   ]
  },
  {
   "cell_type": "code",
   "execution_count": 4,
   "metadata": {
    "collapsed": false,
    "deletable": true,
    "editable": true
   },
   "outputs": [],
   "source": [
    "def create_missing_dirs(*dirs):\n",
    "    for folder in dirs:\n",
    "        if not os.path.exists(folder):\n",
    "            os.makedirs(folder)\n",
    "create_missing_dirs(PARTIAL_DIR, SOLUTIONS_DIR)"
   ]
  },
  {
   "cell_type": "code",
   "execution_count": 5,
   "metadata": {
    "collapsed": true,
    "deletable": true,
    "editable": true
   },
   "outputs": [],
   "source": [
    "def random_params(number, min_val=1, max_val=5):\n",
    "    return tuple(\n",
    "        np.round(\n",
    "            np.random.uniform(min_val, max_val, size=number),\n",
    "            decimals=1\n",
    "        )\n",
    "    )"
   ]
  },
  {
   "cell_type": "code",
   "execution_count": 6,
   "metadata": {
    "collapsed": true,
    "deletable": true,
    "editable": true
   },
   "outputs": [],
   "source": [
    "def random_style():\n",
    "    style = np.random.choice(['-', '-.', '--'], p=[.50, .30, .20])\n",
    "    color = np.random.choice(['blue', 'green', 'red'])\n",
    "    return style, color"
   ]
  },
  {
   "cell_type": "code",
   "execution_count": 7,
   "metadata": {
    "collapsed": true,
    "deletable": true,
    "editable": true
   },
   "outputs": [],
   "source": [
    "def plot(x, y, label, plot_command=None):\n",
    "    if plot_command is None:\n",
    "        plot_command=plt.plot\n",
    "    style, color = random_style()\n",
    "    plot_command(x, y, style, label=label, color=color)\n",
    "    plt.xlabel(r'$x$')\n",
    "    plt.ylabel(r'$y$')\n",
    "    plt.grid()\n",
    "    plt.legend(loc='best')"
   ]
  },
  {
   "cell_type": "code",
   "execution_count": 8,
   "metadata": {
    "collapsed": true,
    "deletable": true,
    "editable": true
   },
   "outputs": [],
   "source": [
    "def cos_plot():\n",
    "    a, omega, phi = random_params(3)\n",
    "    x = np.linspace(-10, 10, 200)\n",
    "    y =  a * np.cos(omega * x + phi)\n",
    "    plot(x, y,\n",
    "         r'$y = {:.1f} \\, \\cos({:.1f} x + {:.1f})$'.format(a, omega, phi))\n",
    "\n",
    "def line_plot():\n",
    "    a, b = random_params(2)\n",
    "    x = np.linspace(-10, 10)\n",
    "    y = a * x + b\n",
    "    plot(x, y, label=r'$y = {:.1f} x + {:.1f}$'.format(a, b))\n",
    "\n",
    "def parable_plot():\n",
    "    a, b, c = random_params(3)\n",
    "    x = np.linspace(-10, 10)\n",
    "    y = a * x ** 2 + b * x + c\n",
    "    plot(x, y,\n",
    "         label=r'$y = {:.1f} x ^ 2 + {:.1f} x + {:.1f}$'.format(a, b, c))\n",
    "\n",
    "def sqrt_plot():\n",
    "    a, = random_params(1)\n",
    "    x = np.linspace(0, 10)\n",
    "    y = a * np.sqrt(x)\n",
    "    plot(x, y, label=r'$y = {:.1f} \\sqrt{{x}}$'.format(a))\n",
    "\n",
    "def exponential_plot():\n",
    "    a, n, = random_params(2, min_val=0.5, max_val=2)\n",
    "    x = np.linspace(0, 10)\n",
    "    y = a * x ** n\n",
    "    plot(x, y, label=r'$y = {:.1f} x ^ {{{:.1f}}}$'.format(a, n))\n",
    "    \n",
    "def exponential_loglog_plot():\n",
    "    a, n, = random_params(2)\n",
    "    x = np.linspace(0, 10)\n",
    "    y = a * x ** n\n",
    "    plot(x, y,\n",
    "         label=r'$y = {:.1f} x ^ {{{:.1f}}}$'.format(a, n),\n",
    "         plot_command=plt.loglog)\n",
    "\n",
    "EASY_PLOTS = [\n",
    "    cos_plot,\n",
    "    line_plot,\n",
    "    parable_plot,\n",
    "    sqrt_plot,\n",
    "    exponential_plot,\n",
    "    exponential_loglog_plot,\n",
    "]"
   ]
  },
  {
   "cell_type": "code",
   "execution_count": 9,
   "metadata": {
    "collapsed": false,
    "deletable": true,
    "editable": true
   },
   "outputs": [],
   "source": [
    "def hard_plot():\n",
    "    components = np.random.choice(EASY_PLOTS, 2, replace=False)\n",
    "    for i, p in enumerate(components):\n",
    "        plt.subplot(1, 2, i + 1)\n",
    "        p()\n",
    "        plt.tight_layout()\n",
    "\n",
    "HARD_PLOTS = [\n",
    "    hard_plot\n",
    "    for _ in range(10)\n",
    "]"
   ]
  },
  {
   "cell_type": "code",
   "execution_count": 10,
   "metadata": {
    "collapsed": true,
    "deletable": true,
    "editable": true
   },
   "outputs": [],
   "source": [
    "def harder_plot():\n",
    "    p1, p2, p3 = np.random.choice(EASY_PLOTS, 3, replace=False)\n",
    "    plt.subplot(2, 1, 1)\n",
    "    p1()\n",
    "    plt.subplot(2, 2, 3)\n",
    "    p2()\n",
    "    plt.subplot(2, 2, 4)\n",
    "    p3()\n",
    "    plt.tight_layout()\n",
    "\n",
    "HARDER_PLOTS = [\n",
    "    harder_plot\n",
    "    for _ in range(10)\n",
    "]"
   ]
  },
  {
   "cell_type": "code",
   "execution_count": 11,
   "metadata": {
    "collapsed": true,
    "deletable": true,
    "editable": true
   },
   "outputs": [],
   "source": [
    "def get_x():\n",
    "    return np.linspace(0, 20, 1000)"
   ]
  },
  {
   "cell_type": "code",
   "execution_count": 12,
   "metadata": {
    "collapsed": true,
    "deletable": true,
    "editable": true
   },
   "outputs": [],
   "source": [
    "def line_data():\n",
    "    a, b = random_params(2)\n",
    "    x = get_x()\n",
    "    y = a * x + b\n",
    "    return x, y, '$y = a x + b$', ('line', a, b)\n",
    "\n",
    "def parable_data():\n",
    "    a, b, c = random_params(3)\n",
    "    x = get_x()\n",
    "    y = a * x ** 2 + b * x + c\n",
    "    return x, y, r'$y = a x^2 + bx + c$', ('parable', a, b, c)\n",
    "\n",
    "def sqrt_data():\n",
    "    a, = random_params(1)\n",
    "    x = get_x()\n",
    "    y = a * np.sqrt(x)\n",
    "    return x, y, r'$y = a \\sqrt{x}$', ('sqrt', a)\n",
    "\n",
    "def exponential_data():\n",
    "    a, n, = random_params(2, min_val=0.5, max_val=2)\n",
    "    x = get_x()\n",
    "    y = a * x ** n\n",
    "    return x, y, r'$y = a x ^ n$', ('exponential', a, n)\n",
    "\n",
    "def exponential_data():\n",
    "    a, n, = random_params(2, min_val=0.5, max_val=2)\n",
    "    x = get_x()\n",
    "    y = a * x ** n\n",
    "    return x, y, r'$y = a x ^ n$', ('exponential', a, n)\n",
    "\n",
    "def logarithmic_data():\n",
    "    a, b, = random_params(2, min_val=0.5, max_val=2)\n",
    "    x = get_x()\n",
    "    y = a * np.log(x + b)\n",
    "    return x, y, r'$y = a \\log(x + b)$', ('logarithm', a, b)\n",
    "\n",
    "SUPER_EASY_DATA = [\n",
    "    line_data,\n",
    "    # parable_data,\n",
    "    sqrt_data,\n",
    "    # exponential_data,\n",
    "    logarithmic_data,\n",
    "]"
   ]
  },
  {
   "cell_type": "code",
   "execution_count": 13,
   "metadata": {
    "collapsed": true,
    "deletable": true,
    "editable": true
   },
   "outputs": [],
   "source": [
    "from collections import namedtuple\n",
    "\n",
    "Peak = namedtuple('Peak', ['pos', 'amp', 'width'])\n",
    "\n",
    "def gausian(x, pos, amp, width):\n",
    "    return amp * np.exp(- (x - pos) ** 2 / (2 * width ** 2))\n",
    "\n",
    "def multi_peak(x, *peaks):\n",
    "    return np.sum(gausian(x, *peak) for peak in peaks)\n",
    "\n",
    "def multi_peak_data():\n",
    "    n_gausian = np.random.choice([1, 2, 3, 4])\n",
    "    centers = random_params(n_gausian, min_val=2, max_val=18)\n",
    "    amplitudes = random_params(n_gausian, min_val=5, max_val=20)\n",
    "    widths = random_params(n_gausian, min_val=0.1, max_val=0.8)\n",
    "    peaks = [\n",
    "        Peak(c, a, w)\n",
    "        for c, a, w in zip(centers, amplitudes, widths)\n",
    "    ]\n",
    "    x = get_x()\n",
    "    y = multi_peak(x, *peaks)\n",
    "    return x, y, '{} gausians'.format(n_gausian), ('multi peak', *[p._asdict() for p in peaks])"
   ]
  },
  {
   "cell_type": "code",
   "execution_count": 14,
   "metadata": {
    "collapsed": true,
    "deletable": true,
    "editable": true
   },
   "outputs": [],
   "source": [
    "def easy_data():\n",
    "    d1, d2 = np.random.choice(SUPER_EASY_DATA, 2, replace=False)\n",
    "    x1, y1, label1, params1 = d1()\n",
    "    x2, y2, label2, params2 = d2()\n",
    "    return (\n",
    "        x1,\n",
    "        y1 + y2,\n",
    "        '\\n'.join([label1, label2]),\n",
    "        (params1, params2)\n",
    "    )\n",
    "\n",
    "EASY_DATA = [\n",
    "    easy_data\n",
    "    for _ in range(20)\n",
    "]"
   ]
  },
  {
   "cell_type": "code",
   "execution_count": 15,
   "metadata": {
    "collapsed": true,
    "deletable": true,
    "editable": true
   },
   "outputs": [],
   "source": [
    "def hard_data():\n",
    "    d1 = np.random.choice(SUPER_EASY_DATA)\n",
    "    x1, y1, label1, params1 = d1()\n",
    "    x2, y2, label2, params2 = multi_peak_data()\n",
    "    return (\n",
    "        x1,\n",
    "        y1 + y2,\n",
    "        'Gotta figure this one out',  # '\\n'.join([label1, label2]),\n",
    "        (params1, params2)\n",
    "    )\n",
    "\n",
    "HARD_DATA = [\n",
    "    hard_data\n",
    "    for _ in range(20)\n",
    "]"
   ]
  },
  {
   "cell_type": "code",
   "execution_count": 16,
   "metadata": {
    "collapsed": false,
    "deletable": true,
    "editable": true
   },
   "outputs": [],
   "source": [
    "import random\n",
    "import numpy\n",
    "import os\n",
    "\n",
    "Substance = namedtuple('Substance', ['name', 'bp'])\n",
    "\n",
    "WATER = Substance('Agua', 273.15 + 100)\n",
    "SUBSTANCES = [\n",
    "    Substance('Metanol',            273.15 + 65),\n",
    "    Substance('Ciclopentanol',      273.15 + 140),\n",
    "    Substance('Ciclohexanol',       273.15 + 161),\n",
    "    Substance('Alcohol cinamílico', 273.15 + 257),\n",
    "    Substance('Glicerol',           273.15 + 290),\n",
    "]\n",
    "ROOM_TEMP = 273.15 + 20\n",
    "\n",
    "\n",
    "def transition(temp, center, mass, width=5):\n",
    "    return mass * (numpy.tanh(- (temp - center) / width) + 1) / 2\n",
    "\n",
    "\n",
    "def artificial_tga(temp, components):\n",
    "    tga = numpy.zeros_like(temp)\n",
    "    for subs, mass in components:\n",
    "        tga += transition(temp, subs.bp, mass)\n",
    "    return tga\n",
    "\n",
    "\n",
    "def get_rand_solution(num_components, include_water=True):\n",
    "    components = list(zip(\n",
    "        random.sample(SUBSTANCES, num_components),\n",
    "        numpy.round(\n",
    "            numpy.random.uniform(0, 5, size=num_components),\n",
    "            2\n",
    "        ),\n",
    "    ))\n",
    "    if include_water:\n",
    "        components.append((\n",
    "            WATER,\n",
    "            numpy.round(numpy.random.uniform(0, 2), 2)\n",
    "        ))\n",
    "    return list(components)\n",
    "\n",
    "\n",
    "def generate_tga_data(path, components, points=100000, noise=0.01):\n",
    "    solution = get_rand_solution(components)\n",
    "    temp = numpy.linspace(ROOM_TEMP, 600, points)\n",
    "    tga = artificial_tga(temp, solution)\n",
    "    tga_exp = tga + numpy.random.normal(0, noise, size=points)\n",
    "    numpy.savetxt(\n",
    "        path + '.txt.gz',\n",
    "        numpy.array([temp, tga_exp]).T,\n",
    "        header='T[K]  m[g]'\n",
    "    )\n",
    "    return [{'component': c._asdict(), 'mass': w} for c, w in solution]"
   ]
  },
  {
   "cell_type": "code",
   "execution_count": 17,
   "metadata": {
    "collapsed": false,
    "deletable": true,
    "editable": true
   },
   "outputs": [
    {
     "name": "stdout",
     "output_type": "stream",
     "text": [
      "done with Federico\n",
      "done with Sebastian Alejandro\n",
      "done with Fernando\n",
      "done with Ivan Dario\n",
      "done with Sebastian\n",
      "done with Christian David\n",
      "done with Sergio Alejandro\n",
      "done with Juan Camilo\n",
      "done with Angel Santiago\n",
      "done with Anngie Carolina\n",
      "done with Cristian Elias\n",
      "done with Juan Sebastian\n",
      "done with Daniela\n",
      "done with Maria Victoria\n",
      "done with Laura Victoria\n",
      "done with Maria Camila\n",
      "done with Oscar (Bolaños)\n"
     ]
    }
   ],
   "source": [
    "for guy in GUYS:\n",
    "    guy_dir = os.path.join(PARTIAL_DIR, guy)\n",
    "    create_missing_dirs(guy_dir)\n",
    "\n",
    "    all_plots = (\n",
    "        [np.random.choice(EASY_PLOTS)] +\n",
    "        [np.random.choice(HARD_PLOTS)] +\n",
    "        [np.random.choice(HARDER_PLOTS)]\n",
    "    )\n",
    "\n",
    "    pp = PdfPages(os.path.join(guy_dir, 'gráficos.pdf'))\n",
    "    for p in all_plots:\n",
    "        plt.figure()\n",
    "        p()\n",
    "        pp.savefig()\n",
    "        plt.close()\n",
    "    pp.close()\n",
    "\n",
    "    solutions = []\n",
    "    all_data = (\n",
    "        [np.random.choice(EASY_DATA)] +\n",
    "        [np.random.choice(HARD_DATA)] +\n",
    "        [np.random.choice(HARD_DATA)]\n",
    "    )\n",
    "    for i, d in enumerate(all_data):\n",
    "        x, y, label, conditions = d()\n",
    "        np.savetxt(\n",
    "            os.path.join(guy_dir, 'data{:02}.txt'.format(i)),\n",
    "            np.array([x, y]).T,\n",
    "            header=label,\n",
    "        )\n",
    "        solutions.append(conditions)\n",
    "    \n",
    "    solutions.extend([\n",
    "            generate_tga_data(os.path.join(guy_dir, 'TGA{:2}'.format(0)), 2),\n",
    "            generate_tga_data(os.path.join(guy_dir, 'TGA{:2}'.format(1)), 4)\n",
    "    ])\n",
    "\n",
    "    guy_solutions = os.path.join(SOLUTIONS_DIR, '{}.json'.format(guy))\n",
    "    with open(guy_solutions, 'w') as sol:\n",
    "        json.dump(solutions, sol, indent=4)\n",
    "    \n",
    "    print('done with', guy)\n"
   ]
  },
  {
   "cell_type": "code",
   "execution_count": null,
   "metadata": {
    "collapsed": true,
    "deletable": true,
    "editable": true
   },
   "outputs": [],
   "source": []
  }
 ],
 "metadata": {
  "kernelspec": {
   "display_name": "Python 3",
   "language": "python",
   "name": "python3"
  },
  "language_info": {
   "codemirror_mode": {
    "name": "ipython",
    "version": 3
   },
   "file_extension": ".py",
   "mimetype": "text/x-python",
   "name": "python",
   "nbconvert_exporter": "python",
   "pygments_lexer": "ipython3",
   "version": "3.6.0"
  }
 },
 "nbformat": 4,
 "nbformat_minor": 1
}
